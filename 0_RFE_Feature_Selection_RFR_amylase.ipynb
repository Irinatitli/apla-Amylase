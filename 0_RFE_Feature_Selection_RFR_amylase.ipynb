{
  "nbformat": 4,
  "nbformat_minor": 0,
  "metadata": {
    "colab": {
      "provenance": []
    },
    "kernelspec": {
      "name": "python3",
      "display_name": "Python 3"
    },
    "language_info": {
      "name": "python"
    }
  },
  "cells": [
    {
      "cell_type": "markdown",
      "source": [
        "**Import Library**"
      ],
      "metadata": {
        "id": "LVAGp3kSikxx"
      }
    },
    {
      "cell_type": "code",
      "source": [
        "import pandas as pd\n",
        "import numpy as np\n",
        "import matplotlib.pyplot as plt\n",
        "import sklearn\n",
        "import seaborn as sns\n",
        "import matplotlib.pyplot as plt"
      ],
      "metadata": {
        "id": "n4i3U7a0im6Y"
      },
      "execution_count": null,
      "outputs": []
    },
    {
      "cell_type": "markdown",
      "source": [
        "**Model**"
      ],
      "metadata": {
        "id": "qI5WYYFBiqJw"
      }
    },
    {
      "cell_type": "code",
      "source": [
        "from sklearn.model_selection import train_test_split\n",
        "from sklearn.feature_selection import RFE\n",
        "from sklearn.ensemble import RandomForestRegressor\n",
        "from sklearn.feature_selection import SelectFromModel\n",
        "from sklearn.metrics import accuracy_score"
      ],
      "metadata": {
        "id": "JHagsW2AirV5"
      },
      "execution_count": null,
      "outputs": []
    },
    {
      "cell_type": "markdown",
      "source": [
        "**Load DATA**"
      ],
      "metadata": {
        "id": "o1tuC-yoiw4I"
      }
    },
    {
      "cell_type": "code",
      "source": [
        "from google.colab import drive\n",
        "drive.mount('/content/drive')"
      ],
      "metadata": {
        "id": "7M-lZm-PizQw",
        "colab": {
          "base_uri": "https://localhost:8080/"
        },
        "outputId": "ae0e0474-569b-4a37-c49c-65c0189a9f64"
      },
      "execution_count": null,
      "outputs": [
        {
          "output_type": "stream",
          "name": "stdout",
          "text": [
            "Mounted at /content/drive\n"
          ]
        }
      ]
    },
    {
      "cell_type": "markdown",
      "source": [
        "# New section"
      ],
      "metadata": {
        "id": "nrBmyDHJg9Mq"
      }
    },
    {
      "cell_type": "markdown",
      "source": [
        "# New section"
      ],
      "metadata": {
        "id": "QuQ6vVYag9ty"
      }
    },
    {
      "cell_type": "code",
      "source": [
        "df = pd.read_csv(\"/content/drive/MyDrive/dataset/des.csv\")\n",
        "df"
      ],
      "metadata": {
        "id": "O3nqZmsCi7Ho"
      },
      "execution_count": null,
      "outputs": []
    },
    {
      "cell_type": "code",
      "source": [
        "print(df.columns)"
      ],
      "metadata": {
        "id": "g2vK0fmEj-II"
      },
      "execution_count": null,
      "outputs": []
    },
    {
      "cell_type": "markdown",
      "source": [
        "**Checking for Null Values**"
      ],
      "metadata": {
        "id": "2RLf12EtkByk"
      }
    },
    {
      "cell_type": "code",
      "source": [
        "df.isnull()"
      ],
      "metadata": {
        "id": "WbMddYwTkEDA"
      },
      "execution_count": null,
      "outputs": []
    },
    {
      "cell_type": "code",
      "source": [
        "df.isnull().sum()"
      ],
      "metadata": {
        "id": "bUk-hIB7kIXA"
      },
      "execution_count": null,
      "outputs": []
    },
    {
      "cell_type": "code",
      "source": [
        "df.isnull().sum().sum()"
      ],
      "metadata": {
        "id": "96_OFcQBkL0J"
      },
      "execution_count": null,
      "outputs": []
    },
    {
      "cell_type": "code",
      "source": [
        "df2 = df.fillna(value = 0)\n",
        "df2"
      ],
      "metadata": {
        "id": "QizysOz1kP94"
      },
      "execution_count": null,
      "outputs": []
    },
    {
      "cell_type": "code",
      "source": [
        "df2.isnull().sum().sum()"
      ],
      "metadata": {
        "id": "PqgSc9hwkTTo"
      },
      "execution_count": null,
      "outputs": []
    },
    {
      "cell_type": "markdown",
      "source": [
        "**Input and Output Preparation**"
      ],
      "metadata": {
        "id": "1pl6KbaxlLBF"
      }
    },
    {
      "cell_type": "code",
      "source": [
        "X = df2.drop(['pIC50'],axis = 1)\n",
        "X"
      ],
      "metadata": {
        "id": "-S0xipLIlO7_"
      },
      "execution_count": null,
      "outputs": []
    },
    {
      "cell_type": "code",
      "source": [
        "Y = df2.pIC50\n",
        "Y"
      ],
      "metadata": {
        "id": "veQZuwWVlUAA"
      },
      "execution_count": null,
      "outputs": []
    },
    {
      "cell_type": "markdown",
      "source": [
        "**Initiation of Recursive Feature Elimination (RFE) for Random Forest Regressor**"
      ],
      "metadata": {
        "id": "C30rRHpPlgnf"
      }
    },
    {
      "cell_type": "code",
      "source": [
        "rfr = RandomForestRegressor(random_state=30)\n",
        "sel = RFE(estimator=rfr, n_features_to_select=50)\n",
        "sel.fit(X, Y)\n",
        "sel.get_support()"
      ],
      "metadata": {
        "id": "wEcCJP0hlqeP"
      },
      "execution_count": null,
      "outputs": []
    },
    {
      "cell_type": "code",
      "source": [
        "len(sel.get_support())"
      ],
      "metadata": {
        "id": "QGev-VO9n4Zg",
        "colab": {
          "base_uri": "https://localhost:8080/"
        },
        "outputId": "71cb8b53-a784-4361-d46a-e440f8980ef5"
      },
      "execution_count": null,
      "outputs": [
        {
          "output_type": "execute_result",
          "data": {
            "text/plain": [
              "569"
            ]
          },
          "metadata": {},
          "execution_count": 14
        }
      ]
    },
    {
      "cell_type": "code",
      "source": [
        "features = X.columns[sel.get_support()]"
      ],
      "metadata": {
        "id": "2nCJ7y3Nn6xn"
      },
      "execution_count": null,
      "outputs": []
    },
    {
      "cell_type": "code",
      "source": [
        "features"
      ],
      "metadata": {
        "id": "xbjmvFa8n9Z3"
      },
      "execution_count": null,
      "outputs": []
    },
    {
      "cell_type": "code",
      "source": [
        "len(features)"
      ],
      "metadata": {
        "id": "v-td4l5NoBzf"
      },
      "execution_count": null,
      "outputs": []
    },
    {
      "cell_type": "code",
      "source": [
        "print(sel.ranking_)"
      ],
      "metadata": {
        "id": "Z62cqReDoN0A"
      },
      "execution_count": null,
      "outputs": []
    },
    {
      "cell_type": "code",
      "source": [
        "feature_importance = pd.DataFrame({\"Feature_Name\" : X.columns[sel.get_support()]})\n",
        "feature_importance"
      ],
      "metadata": {
        "id": "_HP-kAyTy-Ct"
      },
      "execution_count": null,
      "outputs": []
    },
    {
      "cell_type": "code",
      "source": [
        "np.mean(sel.estimator_.feature_importances_)"
      ],
      "metadata": {
        "id": "FwPp23VBIisW"
      },
      "execution_count": null,
      "outputs": []
    },
    {
      "cell_type": "code",
      "source": [
        "sel.estimator_.feature_importances_"
      ],
      "metadata": {
        "id": "F4qTERcjIkUW"
      },
      "execution_count": null,
      "outputs": []
    }
  ]
}